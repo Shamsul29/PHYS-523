{
 "cells": [
  {
   "cell_type": "markdown",
   "id": "33addcd4",
   "metadata": {},
   "source": [
    "# Implementation of a flow through a porous medium\n"
   ]
  },
  {
   "cell_type": "code",
   "execution_count": 2,
   "id": "9d65bcad",
   "metadata": {},
   "outputs": [
    {
     "name": "stdout",
     "output_type": "stream",
     "text": [
      "Collecting package metadata (current_repodata.json): ...working... done\n",
      "Solving environment: ...working... failed with initial frozen solve. Retrying with flexible solve.\n",
      "Collecting package metadata (repodata.json): ...working... done\n",
      "Solving environment: ...working... failed with initial frozen solve. Retrying with flexible solve.\n",
      "\n",
      "Note: you may need to restart the kernel to use updated packages.\n"
     ]
    },
    {
     "name": "stderr",
     "output_type": "stream",
     "text": [
      "\n",
      "PackagesNotFoundError: The following packages are not available from current channels:\n",
      "\n",
      "  - lettuce\n",
      "\n",
      "Current channels:\n",
      "\n",
      "  - https://repo.anaconda.com/pkgs/main/win-64\n",
      "  - https://repo.anaconda.com/pkgs/main/noarch\n",
      "  - https://repo.anaconda.com/pkgs/r/win-64\n",
      "  - https://repo.anaconda.com/pkgs/r/noarch\n",
      "  - https://repo.anaconda.com/pkgs/msys2/win-64\n",
      "  - https://repo.anaconda.com/pkgs/msys2/noarch\n",
      "\n",
      "To search for alternate channels that may provide the conda package you're\n",
      "looking for, navigate to\n",
      "\n",
      "    https://anaconda.org\n",
      "\n",
      "and use the search bar at the top of the page.\n",
      "\n",
      "\n"
     ]
    }
   ],
   "source": [
    "conda install lettuce"
   ]
  },
  {
   "cell_type": "code",
   "execution_count": 2,
   "id": "cc4dc7ad",
   "metadata": {},
   "outputs": [
    {
     "ename": "ModuleNotFoundError",
     "evalue": "No module named 'lettuce'",
     "output_type": "error",
     "traceback": [
      "\u001b[1;31m---------------------------------------------------------------------------\u001b[0m",
      "\u001b[1;31mModuleNotFoundError\u001b[0m                       Traceback (most recent call last)",
      "Input \u001b[1;32mIn [2]\u001b[0m, in \u001b[0;36m<cell line: 4>\u001b[1;34m()\u001b[0m\n\u001b[0;32m      2\u001b[0m \u001b[38;5;28;01mfrom\u001b[39;00m \u001b[38;5;21;01mmatplotlib\u001b[39;00m \u001b[38;5;28;01mimport\u001b[39;00m pyplot \u001b[38;5;28;01mas\u001b[39;00m plt\n\u001b[0;32m      3\u001b[0m \u001b[38;5;28;01mimport\u001b[39;00m \u001b[38;5;21;01mtorch\u001b[39;00m\n\u001b[1;32m----> 4\u001b[0m \u001b[38;5;28;01mimport\u001b[39;00m \u001b[38;5;21;01mlettuce\u001b[39;00m \u001b[38;5;28;01mas\u001b[39;00m \u001b[38;5;21;01mlt\u001b[39;00m\n",
      "\u001b[1;31mModuleNotFoundError\u001b[0m: No module named 'lettuce'"
     ]
    }
   ],
   "source": [
    "import numpy as np\n",
    "from matplotlib import pyplot as plt\n",
    "import torch\n",
    "import lettuce as lt"
   ]
  },
  {
   "cell_type": "markdown",
   "id": "3988ef17",
   "metadata": {},
   "source": [
    "## Define Flow and Boundary Condition"
   ]
  },
  {
   "cell_type": "code",
   "execution_count": null,
   "id": "381af06d",
   "metadata": {},
   "outputs": [],
   "source": [
    "class PeriodicPressureBC:\n",
    "    \"\"\"According to Ehsan Evati: 'High performance simulation of fluid flow in porous media...' \n",
    "    \"\"\"\n",
    "    def __init__(self, lattice, delta_rho):\n",
    "        self.lattice   = lattice\n",
    "        self.delta_rho = delta_rho\n",
    "        \n",
    "    def __call__(self, f):\n",
    "        f[[1,5,8], 0,:] = f[[1,5,8], 0,:] + self.lattice.w[[1,5,8],None] * self.delta_rho\n",
    "        f[[3,6,7],-1,:] = f[[3,6,7],-1,:] - self.lattice.w[[3,6,7],None] * self.delta_rho\n",
    "        return f"
   ]
  },
  {
   "cell_type": "code",
   "execution_count": null,
   "id": "8d15f368",
   "metadata": {},
   "outputs": [],
   "source": [
    "class PorousMedium2D(lt.Obstacle2D):\n",
    "    def __init__(\n",
    "            self,\n",
    "            pressure_difference, \n",
    "            resolution_x,\n",
    "            resolution_y,\n",
    "            reynolds_number,\n",
    "            mach_number,\n",
    "            lattice,\n",
    "            char_length_lu\n",
    "    ):\n",
    "        super().__init__(\n",
    "            resolution_x,\n",
    "            resolution_y,\n",
    "            reynolds_number,\n",
    "            mach_number,\n",
    "            lattice,\n",
    "            char_length_lu\n",
    "        )\n",
    "        self.delta_rho = pressure_difference\n",
    "    \n",
    "    #@property\n",
    "    #def delta_rho(self):\n",
    "    #    rho_in = self.units.convert_pressure_pu_to_density_lu(self.pressure_difference/2)\n",
    "    #    rho_out = self.units.convert_pressure_pu_to_density_lu(-self.pressure_difference/2)\n",
    "    #    return rho_in - rho_out\n",
    "    \n",
    "    @property\n",
    "    def boundaries(self):\n",
    "        return [\n",
    "            # left/right\n",
    "            PeriodicPressureBC(self.units.lattice, self.delta_rho),\n",
    "            # bounce back periodic medium\n",
    "            lt.BounceBackBoundary(self.mask, self.units.lattice)\n",
    "            # periodic in y direction\n",
    "        ]"
   ]
  },
  {
   "cell_type": "markdown",
   "id": "23823cf0",
   "metadata": {},
   "source": [
    "## Setting up domain and flow parameters"
   ]
  },
  {
   "cell_type": "code",
   "execution_count": null,
   "id": "worst-deputy",
   "metadata": {},
   "outputs": [],
   "source": [
    "# user-defined parameters\n",
    "\n",
    "nx = 500 # domain length in x-dir\n",
    "ny = 500 # domain length in y-dir\n",
    "\n",
    "n_buffer = 10 # number of buffer layers\n",
    "it_check = 1000 # check for convergence every n-iterations \n",
    "it_max   = 1e7 # break after max its its reached\n",
    "epsilon  = 0.1 # break after the diff between its it's less than e %\n",
    "\n",
    "delta_rho_lu = 0.005 # my code uses 0.0005\n",
    "resolution   = 1e-6 # [lu/pu] microns\n",
    "\n",
    "device = 'cuda:0' # gpu\n",
    "dtype  = torch.float64 # torch types: torch.float64 is stable and accurate"
   ]
  },
  {
   "cell_type": "code",
   "execution_count": null,
   "id": "changed-niagara",
   "metadata": {},
   "outputs": [],
   "source": [
    "lattice = lt.Lattice(lt.D2Q9, device, dtype)"
   ]
  },
  {
   "cell_type": "code",
   "execution_count": null,
   "id": "8b4de7ef",
   "metadata": {},
   "outputs": [],
   "source": [
    "Ma    = 0.01 # I set this arbitrarily\n",
    "u_lbm = lattice.cs*Ma\n",
    "\n",
    "omega = 1.0\n",
    "nu    = (1/omega - 0.5)/(1/lattice.cs)**2\n",
    "Re    = u_lbm*nx/nu\n",
    "\n",
    "\n",
    "flow = PorousMedium2D(\n",
    "    delta_rho_lu, ny, nx, reynolds_number=Re, mach_number=Ma, \n",
    "    lattice=lattice, char_length_lu=nx\n",
    ")"
   ]
  },
  {
   "cell_type": "code",
   "execution_count": null,
   "id": "executive-culture",
   "metadata": {},
   "outputs": [],
   "source": [
    "# make porous medium by inserting random circles\n",
    "np.random.seed(234269)\n",
    "n_circles = 125\n",
    "for i in range(n_circles):\n",
    "    x, y = flow.grid\n",
    "    x0 = np.random.rand()\n",
    "    y0 = np.random.rand()*y.max()\n",
    "    r = 0.02 + 0.02 * np.random.rand()\n",
    "    circle = ((x-x0)**2 + (y-y0)**2 < r**2)\n",
    "    flow.mask[circle] = 1\n",
    "\n",
    "# make a buffer region that should have constant pressure\n",
    "flow.mask[ :n_buffer, :] = 0\n",
    "flow.mask[-n_buffer:, :] = 0\n",
    "\n",
    "# calculate porosity\n",
    "phi = 1-np.sum(flow.mask)/(nx*ny)"
   ]
  },
  {
   "cell_type": "code",
   "execution_count": null,
   "id": "49276bde",
   "metadata": {},
   "outputs": [],
   "source": [
    "plt.imshow(flow.mask.transpose(), origin=\"lower\", cmap='gray_r')\n",
    "plt.title(f'The porosity of the domain is {phi*100:2.1f} %');"
   ]
  },
  {
   "cell_type": "markdown",
   "id": "59319068",
   "metadata": {},
   "source": [
    "## Run Simulation"
   ]
  },
  {
   "cell_type": "code",
   "execution_count": null,
   "id": "1a95d089",
   "metadata": {},
   "outputs": [],
   "source": [
    "collision  = lt.BGKCollision(lattice, tau=flow.units.relaxation_parameter_lu)\n",
    "streaming  = lt.StandardStreaming(lattice)\n",
    "simulation = lt.Simulation(lattice=lattice, flow=flow, streaming=streaming, collision=collision)"
   ]
  },
  {
   "cell_type": "code",
   "execution_count": null,
   "id": "d80f0401",
   "metadata": {},
   "outputs": [],
   "source": [
    "u_t = [np.Inf] # save it info for plotting\n",
    "for i in range(1,int(it_max//it_check)):   \n",
    "    simulation.step(it_check)\n",
    "    u_t.append(lattice.u(simulation.f).mean()) \n",
    "    rel_change = ((u_t[-1]-u_t[-2])/u_t[-1]*100).abs() \n",
    "    print(f'it {i*it_check} {u_t[-1]} the relative change in mean vel is {rel_change} %')\n",
    "    if rel_change < epsilon:\n",
    "        break"
   ]
  },
  {
   "cell_type": "code",
   "execution_count": null,
   "id": "natural-portrait",
   "metadata": {},
   "outputs": [],
   "source": [
    "u_t = [x.cpu().numpy() for x in u_t[1:]]\n",
    "plt.plot(np.log10(np.abs(u_t)))\n",
    "plt.xlabel(f'{it_check} iterations')\n",
    "plt.ylabel(f'mean log10(|velocity|) [lus]')"
   ]
  },
  {
   "cell_type": "code",
   "execution_count": null,
   "id": "63df80e6",
   "metadata": {},
   "outputs": [],
   "source": [
    "u = lattice.u(simulation.f)\n",
    "k = nu*u.mean()/(delta_rho_lu/nx)*resolution**2\n",
    "rho = lattice.rho(simulation.f)\n",
    "u = flow.units.convert_velocity_to_pu(u).cpu().detach().numpy()\n",
    "p = flow.units.convert_density_lu_to_pressure_pu(rho).cpu().detach().numpy()\n",
    "unorm = np.linalg.norm(u, axis=0)\n",
    "\n",
    "# Plot without outliers due to bounce-back contacts\n",
    "fig, axes = plt.subplots(1,4, figsize=(12,3), dpi=300)\n",
    "fig.tight_layout()\n",
    "axes[0].set_title(\"Pressure\")\n",
    "axes[0].imshow(p[0].transpose(), origin=\"lower\", )#vmin=p[0,ny-1,0], vmax=p[0].mean(axis=-1).max())\n",
    "axes[1].set_title(\"Velocity\")\n",
    "axes[1].imshow(unorm.transpose(), origin=\"lower\", cmap='inferno',\n",
    "               vmin=np.percentile(unorm.flatten(),1),\n",
    "               vmax=np.percentile(unorm.flatten(),95)\n",
    "              )\n",
    "axes[2].set_title(\"Mean fluid pressure along x\")\n",
    "axes[2].plot(p[0].sum(axis=-1)/(np.logical_not(flow.mask).sum(axis=-1)))\n",
    "axes[3].set_title(\"Mean fluid velocity along x\")\n",
    "axes[3].plot(u[0].mean(axis=-1));\n"
   ]
  },
  {
   "cell_type": "code",
   "execution_count": null,
   "id": "needed-courage",
   "metadata": {},
   "outputs": [],
   "source": [
    "print(f'Porosity = {phi*100} % and Permeability = {k} [m^2]')"
   ]
  },
  {
   "cell_type": "code",
   "execution_count": null,
   "id": "8f64d097",
   "metadata": {},
   "outputs": [],
   "source": []
  }
 ],
 "metadata": {
  "kernelspec": {
   "display_name": "Python 3 (ipykernel)",
   "language": "python",
   "name": "python3"
  },
  "language_info": {
   "codemirror_mode": {
    "name": "ipython",
    "version": 3
   },
   "file_extension": ".py",
   "mimetype": "text/x-python",
   "name": "python",
   "nbconvert_exporter": "python",
   "pygments_lexer": "ipython3",
   "version": "3.9.12"
  }
 },
 "nbformat": 4,
 "nbformat_minor": 5
}
